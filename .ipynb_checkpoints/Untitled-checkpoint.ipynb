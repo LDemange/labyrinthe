{
 "cells": [
  {
   "cell_type": "code",
   "execution_count": 40,
   "id": "091f8549-b484-4b5b-99bf-0ba88a479ea1",
   "metadata": {},
   "outputs": [],
   "source": [
    "from numpy import array\n",
    "motifs = []\n",
    "submatrix = []\n",
    "matrix = [[]]"
   ]
  },
  {
   "cell_type": "code",
   "execution_count": 41,
   "id": "2163f664-6674-4682-ab81-751bcf341b59",
   "metadata": {},
   "outputs": [],
   "source": [
    "motifs.append(array([array([1,1,1]),array([0,0,0]),array([1,1,1])]))\n",
    "motifs.append(array([array([1,0,1]),array([0,0,1]),array([1,0,1])]))\n",
    "motifs.append(array([array([1,0,1]),array([0,0,0]),array([1,0,1])]))\n",
    "motifs.append(array([array([1,1,1]),array([1,1,1]),array([1,1,1])]))"
   ]
  },
  {
   "cell_type": "code",
   "execution_count": 44,
   "id": "5c1c363a-20fe-4e91-bbaf-b0a674be4120",
   "metadata": {},
   "outputs": [
    {
     "ename": "IndexError",
     "evalue": "list index out of range",
     "output_type": "error",
     "traceback": [
      "\u001b[0;31m---------------------------------------------------------------------------\u001b[0m",
      "\u001b[0;31mIndexError\u001b[0m                                Traceback (most recent call last)",
      "Cell \u001b[0;32mIn[44], line 3\u001b[0m\n\u001b[1;32m      1\u001b[0m \u001b[38;5;28;01mfor\u001b[39;00m j \u001b[38;5;129;01min\u001b[39;00m \u001b[38;5;28mrange\u001b[39m (\u001b[38;5;241m0\u001b[39m,\u001b[38;5;241m4\u001b[39m):\n\u001b[1;32m      2\u001b[0m     \u001b[38;5;28;01mfor\u001b[39;00m i \u001b[38;5;129;01min\u001b[39;00m \u001b[38;5;28mrange\u001b[39m(\u001b[38;5;241m0\u001b[39m,\u001b[38;5;241m4\u001b[39m):\n\u001b[0;32m----> 3\u001b[0m         \u001b[43mmatrix\u001b[49m\u001b[43m[\u001b[49m\u001b[43mj\u001b[49m\u001b[43m]\u001b[49m\u001b[38;5;241m.\u001b[39mappend(motifs[i])\n",
      "\u001b[0;31mIndexError\u001b[0m: list index out of range"
     ]
    }
   ],
   "source": [
    "for j in range (0,4):\n",
    "    for i in range(0,4):\n",
    "        submatrix.append(motifs[i])\n",
    "    matrix.append(submatrix)\n",
    "    submatrix = []"
   ]
  },
  {
   "cell_type": "code",
   "execution_count": 46,
   "id": "5ed24166-4d41-489b-bea6-7c0570f1cb85",
   "metadata": {},
   "outputs": [
    {
     "ename": "IndexError",
     "evalue": "list index out of range",
     "output_type": "error",
     "traceback": [
      "\u001b[0;31m---------------------------------------------------------------------------\u001b[0m",
      "\u001b[0;31mIndexError\u001b[0m                                Traceback (most recent call last)",
      "Cell \u001b[0;32mIn[46], line 1\u001b[0m\n\u001b[0;32m----> 1\u001b[0m \u001b[43mmatrix\u001b[49m\u001b[43m[\u001b[49m\u001b[38;5;241;43m1\u001b[39;49m\u001b[43m]\u001b[49m\n",
      "\u001b[0;31mIndexError\u001b[0m: list index out of range"
     ]
    }
   ],
   "source": [
    "matrix[1]"
   ]
  },
  {
   "cell_type": "code",
   "execution_count": null,
   "id": "3422fefc-da5e-4c05-929d-1ca04d5684cc",
   "metadata": {},
   "outputs": [],
   "source": []
  }
 ],
 "metadata": {
  "kernelspec": {
   "display_name": "Python 3 (ipykernel)",
   "language": "python",
   "name": "python3"
  },
  "language_info": {
   "codemirror_mode": {
    "name": "ipython",
    "version": 3
   },
   "file_extension": ".py",
   "mimetype": "text/x-python",
   "name": "python",
   "nbconvert_exporter": "python",
   "pygments_lexer": "ipython3",
   "version": "3.9.7"
  }
 },
 "nbformat": 4,
 "nbformat_minor": 5
}
