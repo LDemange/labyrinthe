{
 "cells": [
  {
   "cell_type": "code",
   "execution_count": 65,
   "id": "091f8549-b484-4b5b-99bf-0ba88a479ea1",
   "metadata": {},
   "outputs": [],
   "source": [
    "from numpy import array\n",
    "motifs = []\n",
    "m_wall = []\n",
    "from random import randrange"
   ]
  },
  {
   "cell_type": "code",
   "execution_count": 66,
   "id": "2163f664-6674-4682-ab81-751bcf341b59",
   "metadata": {},
   "outputs": [],
   "source": [
    "motifs.append(array([array([1,1,1]),array([0,0,0]),array([1,1,1])]))\n",
    "motifs.append(array([array([1,0,1]),array([0,0,1]),array([1,0,1])]))\n",
    "motifs.append(array([array([1,0,1]),array([0,0,0]),array([1,0,1])]))\n",
    "motifs.append(array([array([1,0,1]),array([0,0,1]),array([1,1,1])]))\n",
    "motifs.append(array([array([1,1,1]),array([1,1,1]),array([1,1,1])]))"
   ]
  },
  {
   "cell_type": "code",
   "execution_count": 67,
   "id": "5c1c363a-20fe-4e91-bbaf-b0a674be4120",
   "metadata": {},
   "outputs": [],
   "source": [
    "length_laby = 15\n",
    "for i in range(int(length_laby**2/3)):\n",
    "        motif = motifs[randrange(0,5,1)]\n",
    "        m_wall.append(motif)"
   ]
  },
  {
   "cell_type": "code",
   "execution_count": 95,
   "id": "3422fefc-da5e-4c05-929d-1ca04d5684cc",
   "metadata": {},
   "outputs": [
    {
     "data": {
      "text/plain": [
       "array([1, 1, 1])"
      ]
     },
     "execution_count": 95,
     "metadata": {},
     "output_type": "execute_result"
    }
   ],
   "source": [
    "motif[0]"
   ]
  },
  {
   "cell_type": "code",
   "execution_count": 90,
   "id": "fad98c9f-2b97-4d6f-b78f-241988587f33",
   "metadata": {},
   "outputs": [
    {
     "data": {
      "text/plain": [
       "0"
      ]
     },
     "execution_count": 90,
     "metadata": {},
     "output_type": "execute_result"
    }
   ],
   "source": []
  },
  {
   "cell_type": "code",
   "execution_count": 93,
   "id": "a2675f3e-4b2b-4e0e-a776-5ff129731912",
   "metadata": {},
   "outputs": [
    {
     "data": {
      "text/plain": [
       "1"
      ]
     },
     "execution_count": 93,
     "metadata": {},
     "output_type": "execute_result"
    }
   ],
   "source": []
  },
  {
   "cell_type": "code",
   "execution_count": null,
   "id": "715bc171-b7c4-4906-ae83-5a22d12262fc",
   "metadata": {},
   "outputs": [],
   "source": []
  }
 ],
 "metadata": {
  "kernelspec": {
   "display_name": "Python 3 (ipykernel)",
   "language": "python",
   "name": "python3"
  },
  "language_info": {
   "codemirror_mode": {
    "name": "ipython",
    "version": 3
   },
   "file_extension": ".py",
   "mimetype": "text/x-python",
   "name": "python",
   "nbconvert_exporter": "python",
   "pygments_lexer": "ipython3",
   "version": "3.9.7"
  }
 },
 "nbformat": 4,
 "nbformat_minor": 5
}
