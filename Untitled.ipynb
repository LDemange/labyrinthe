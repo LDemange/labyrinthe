{
 "cells": [
  {
   "cell_type": "code",
   "execution_count": 5,
   "id": "091f8549-b484-4b5b-99bf-0ba88a479ea1",
   "metadata": {},
   "outputs": [],
   "source": [
    "from tkinter import *\n",
    "import math"
   ]
  },
  {
   "cell_type": "code",
   "execution_count": 2,
   "id": "2163f664-6674-4682-ab81-751bcf341b59",
   "metadata": {},
   "outputs": [],
   "source": [
    "fen = Tk()\n",
    "size_window = 9*30+6\n",
    "fen.geometry(f'{size_window}x{size_window}+450+250')\n",
    "can = Canvas(fen, width = 206, heigh = 206, bg = 'pink')\n",
    "can.pack()\n",
    "fen.mainloop()"
   ]
  },
  {
   "cell_type": "code",
   "execution_count": 3,
   "id": "933a9921-13f7-4ef9-ba80-da22bd651f59",
   "metadata": {},
   "outputs": [],
   "source": [
    "a=Tk()\n",
    "b=Text(a)\n",
    "c=('test des index')\n",
    "b.insert(END, c)\n",
    "b.tag_add('tag', 1.0, '1.'+str(len(c)))\n",
    "b.tag_ranges('tag')\n",
    "b.mainloop()"
   ]
  },
  {
   "cell_type": "code",
   "execution_count": 7,
   "id": "998ca9c3-665e-42e8-9298-f1bef27a8107",
   "metadata": {},
   "outputs": [
    {
     "data": {
      "text/plain": [
       "6"
      ]
     },
     "execution_count": 7,
     "metadata": {},
     "output_type": "execute_result"
    }
   ],
   "source": [
    "math.ceil(5.1)"
   ]
  },
  {
   "cell_type": "code",
   "execution_count": null,
   "id": "8c40cc6d-6fe5-478e-91cb-957f1888fbec",
   "metadata": {},
   "outputs": [],
   "source": []
  }
 ],
 "metadata": {
  "kernelspec": {
   "display_name": "Python 3 (ipykernel)",
   "language": "python",
   "name": "python3"
  },
  "language_info": {
   "codemirror_mode": {
    "name": "ipython",
    "version": 3
   },
   "file_extension": ".py",
   "mimetype": "text/x-python",
   "name": "python",
   "nbconvert_exporter": "python",
   "pygments_lexer": "ipython3",
   "version": "3.9.7"
  }
 },
 "nbformat": 4,
 "nbformat_minor": 5
}
